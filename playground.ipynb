{
 "cells": [
  {
   "cell_type": "code",
   "execution_count": 2,
   "id": "ffc36a3e",
   "metadata": {},
   "outputs": [
    {
     "ename": "ModuleNotFoundError",
     "evalue": "No module named 'transformers'",
     "output_type": "error",
     "traceback": [
      "\u001b[31m---------------------------------------------------------------------------\u001b[39m",
      "\u001b[31mModuleNotFoundError\u001b[39m                       Traceback (most recent call last)",
      "\u001b[36mCell\u001b[39m\u001b[36m \u001b[39m\u001b[32mIn[2]\u001b[39m\u001b[32m, line 2\u001b[39m\n\u001b[32m      1\u001b[39m \u001b[38;5;66;03m# 🔧 Setup\u001b[39;00m\n\u001b[32m----> \u001b[39m\u001b[32m2\u001b[39m \u001b[38;5;28;01mfrom\u001b[39;00m\u001b[38;5;250m \u001b[39m\u001b[34;01mchatbot\u001b[39;00m\u001b[34;01m.\u001b[39;00m\u001b[34;01memotion\u001b[39;00m\u001b[38;5;250m \u001b[39m\u001b[38;5;28;01mimport\u001b[39;00m detect_emotion\n\u001b[32m      3\u001b[39m \u001b[38;5;28;01mfrom\u001b[39;00m\u001b[38;5;250m \u001b[39m\u001b[34;01mchatbot\u001b[39;00m\u001b[34;01m.\u001b[39;00m\u001b[34;01mgenerate\u001b[39;00m\u001b[38;5;250m \u001b[39m\u001b[38;5;28;01mimport\u001b[39;00m generate_response\n\u001b[32m      4\u001b[39m \u001b[38;5;28;01mfrom\u001b[39;00m\u001b[38;5;250m \u001b[39m\u001b[34;01mchatbot\u001b[39;00m\u001b[34;01m.\u001b[39;00m\u001b[34;01mmemory\u001b[39;00m\u001b[38;5;250m \u001b[39m\u001b[38;5;28;01mimport\u001b[39;00m save_chat, show_history\n",
      "\u001b[36mFile \u001b[39m\u001b[32m/workspaces/irenic-Mental-Health-Chatbot/chatbot/emotion.py:1\u001b[39m\n\u001b[32m----> \u001b[39m\u001b[32m1\u001b[39m \u001b[38;5;28;01mfrom\u001b[39;00m\u001b[38;5;250m \u001b[39m\u001b[34;01mtransformers\u001b[39;00m\u001b[38;5;250m \u001b[39m\u001b[38;5;28;01mimport\u001b[39;00m pipeline\n\u001b[32m      3\u001b[39m \u001b[38;5;66;03m# Load Hugging Face emotion classification pipeline (TensorFlow backend)\u001b[39;00m\n\u001b[32m      4\u001b[39m emotion_classifier = pipeline(\u001b[33m\"\u001b[39m\u001b[33mtext-classification\u001b[39m\u001b[33m\"\u001b[39m, model=\u001b[33m\"\u001b[39m\u001b[33mj-hartmann/emotion-english-distilroberta-base\u001b[39m\u001b[33m\"\u001b[39m, return_all_scores=\u001b[38;5;28;01mFalse\u001b[39;00m, framework=\u001b[33m\"\u001b[39m\u001b[33mtf\u001b[39m\u001b[33m\"\u001b[39m)\n",
      "\u001b[31mModuleNotFoundError\u001b[39m: No module named 'transformers'"
     ]
    }
   ],
   "source": [
    "# 🔧 Setup\n",
    "from chatbot.emotion import detect_emotion\n",
    "from chatbot.generate import generate_response\n",
    "from chatbot.memory import save_chat, show_history\n",
    "\n",
    "# Optional: Clear memory if restarting fresh\n",
    "# from chatbot.memory import clear_memory\n",
    "# clear_memory()\n",
    "\n",
    "# 💬 Main chat loop (one step)\n",
    "user_input = \"I feel completely drained and tired.\"\n",
    "\n",
    "# 1. Detect emotion\n",
    "emotion_label, score = detect_emotion(user_input)\n",
    "print(f\"[Detected Emotion] {emotion_label} ({score:.2f})\")\n",
    "\n",
    "# 2. Generate chatbot response\n",
    "bot_reply = generate_response(user_input)\n",
    "print(f\"[Bot] {bot_reply}\")\n",
    "\n",
    "# 3. Save to memory\n",
    "save_chat(user_input, bot_reply, emotion_label)\n",
    "\n",
    "# 4. (Optional) Show entire chat history\n",
    "print(\"\\n🧠 Chat History:\")\n",
    "for entry in show_history():\n",
    "    print(f\"User: {entry['user']}\")\n",
    "    print(f\"Emotion: {entry['emotion']}\")\n",
    "    print(f\"Bot: {entry['bot']}\\n\")"
   ]
  }
 ],
 "metadata": {
  "kernelspec": {
   "display_name": ".matrix",
   "language": "python",
   "name": "python3"
  },
  "language_info": {
   "codemirror_mode": {
    "name": "ipython",
    "version": 3
   },
   "file_extension": ".py",
   "mimetype": "text/x-python",
   "name": "python",
   "nbconvert_exporter": "python",
   "pygments_lexer": "ipython3",
   "version": "3.12.1"
  }
 },
 "nbformat": 4,
 "nbformat_minor": 5
}
